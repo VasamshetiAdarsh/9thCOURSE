{
    "cells": [
        {
            "metadata": {
                "collapsed": true
            },
            "cell_type": "markdown",
            "source": "## Capstone Project - The Battle of Neighborhoods (Week 1)"
        },
        {
            "metadata": {},
            "cell_type": "markdown",
            "source": "# A description of the problem and a discussion of the background"
        },
        {
            "metadata": {},
            "cell_type": "raw",
            "source": "The land and rent in Mumbai are costly and scarce, and we would like to find an optimum location where a new startup can set up an office for operations.\nSetting up an office location in Mumbai leverages a great symbol of pride and its good for the startup to acquire relevant businesses from the financial capital.\nMumbai is the financial, commercial and the entertainment capital of India. It is also one of the world's top ten centres of commerce in terms of global financial flow, generating 6.16% of India's GDP, and accounting for 25% of industrial output, 70% of maritime trade in India (Mumbai Port Trust and JNPT), and 70% of capital transactions to India's economy. Mumbai has the eighth-highest number of billionaires of any city in the world, and Mumbai's billionaires had the highest average wealth of any city in the world in 2008. The city houses prestigious financial institutions and the corporate headquarters of numerous Indian companies and multinational corporations. \nMumbai is on a narrow peninsula on the southwest of Salsette Island, which lies between the Arabian Sea to the west, Thane Creek to the east and Vasai Creek to the north. Mumbai's suburban district occupies most of the island. Navi Mumbai is east of Thane Creek, and Thane is north of Vasai Creek. Mumbai consists of two distinct regions: Mumbai City district and Mumbai Suburban district, which form two separate revenue districts of Maharashtra. The city district region is also commonly referred to as the Island City or South Mumbai. The total area of Mumbai is 603.4 km2 (233 sq mi). Of this, the island city spans 67.79 km2 (26 sq mi), while the suburban district spans 370 km2 (143 sq mi), together accounting for 437.71 km2 (169 sq mi) under the administration of Municipal Corporation of Greater Mumbai (MCGM). The remaining areas belong to various Defence establishments, the Mumbai Port Trust, the Atomic Energy Commission and the Borivali National Park, which are out of the jurisdiction of the MCGM. \n"
        },
        {
            "metadata": {},
            "cell_type": "markdown",
            "source": "## A description of the data and how it will be used to solve the problem."
        },
        {
            "metadata": {},
            "cell_type": "raw",
            "source": "I will be using wikipedia data & Forsquare API to get the locations of offices.\nBased on cluster analysis, the best optimum choice for new startup operations will get decided."
        },
        {
            "metadata": {},
            "cell_type": "code",
            "source": "",
            "execution_count": null,
            "outputs": []
        },
        {
            "metadata": {},
            "cell_type": "code",
            "source": "",
            "execution_count": null,
            "outputs": []
        },
        {
            "metadata": {},
            "cell_type": "code",
            "source": "",
            "execution_count": null,
            "outputs": []
        }
    ],
    "metadata": {
        "kernelspec": {
            "name": "python3",
            "display_name": "Python 3.6",
            "language": "python"
        },
        "language_info": {
            "name": "python",
            "version": "3.6.9",
            "mimetype": "text/x-python",
            "codemirror_mode": {
                "name": "ipython",
                "version": 3
            },
            "pygments_lexer": "ipython3",
            "nbconvert_exporter": "python",
            "file_extension": ".py"
        }
    },
    "nbformat": 4,
    "nbformat_minor": 1
}